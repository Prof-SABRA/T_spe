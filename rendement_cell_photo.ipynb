{
 "cells": [
  {
   "cell_type": "markdown",
   "metadata": {
    "tags": []
   },
   "source": [
    "<h1 align=\"center\" style=\"font-size:40px\"> AE22 : rendement cellule photovoltaique  </h1> "
   ]
  },
  {
   "cell_type": "markdown",
   "metadata": {
    "tags": []
   },
   "source": [
    "<div class=\"alert alert-block alert-danger\">\n",
    "    <b>CONSIGNES GENERALES</b>\n",
    "    <ul>\n",
    "        <li> Les différentes parties peuvent être traitées indépendamment, mai<b>la première cellule doit nécessairement être exécutée pour faire la suite. </b></li>\n",
    "        <li> Lire les consignes dans les cellules bleues. </li>\n",
    "        <li> Les aides (cellules vertes) et les solutions (cellules jaunes)ne sont à utiliser qu'après avoir vraiment essayé de compléter le code. </li>\n",
    "        <li> Pour les graphiques, on trouvera des notices au format pdf <a href=\"https://colibris.link/PC\">ici</a> et des tutos vidéos <a href=\"https://tube-creteil.beta.education.fr/video-channels/phys_chim_choisy_le_roi/videos\">là</a>. </li>\n",
    "    </ul>\n",
    "</div>"
   ]
  },
  {
   "cell_type": "markdown",
   "metadata": {},
   "source": [
    "<div class=\"alert alert-block alert-info\">\n",
    "    <b> Consignes </b>\n",
    "\n",
    "Compléter les cellules ci-dessous avec les valeurs expérimentales </li>\n",
    "</div>"
   ]
  },
  {
   "cell_type": "code",
   "execution_count": null,
   "metadata": {},
   "outputs": [],
   "source": [
    "E = ... # Eclairement en lux\n",
    "U = [...] # V\n",
    "I = [...] # A\n",
    "S = 2.6e-3 # surface de la cellule photovoltaïque en m^2 "
   ]
  },
  {
   "cell_type": "markdown",
   "metadata": {},
   "source": [
    "<div class=\"alert alert-block alert-info\">\n",
    "    <b> Consignes </b>\n",
    "    <p>Compléter la cellule pour calculer la puissance électrique fournie par la cellule pour les différentes valeurs de U et I</p>"
   ]
  },
  {
   "cell_type": "code",
   "execution_count": null,
   "metadata": {},
   "outputs": [],
   "source": [
    "N = len(U) # Nombre de valeurs des la liste U\n",
    "P_elec = [] # Création d'un liste vide\n",
    "for i in range(N):\n",
    "    P_elec.append(...)"
   ]
  },
  {
   "cell_type": "markdown",
   "metadata": {
    "tags": []
   },
   "source": [
    "<div class=\"alert alert-block alert-success\">\n",
    "    <details>\n",
    "        <summary> <b> Aides </b> </summary>\n",
    "        <ul>\n",
    "            <li> L'élement d'indice i d'une liste se note liste[i]  </li>\n",
    "            <li> Pour une multiplication, on utilise \"*\" </li>\n",
    "        </ul>\n",
    "    </details>\n",
    "</div>"
   ]
  },
  {
   "cell_type": "markdown",
   "metadata": {},
   "source": [
    "<div class=\"alert alert-block alert-warning\">\n",
    " <details>\n",
    "        <summary> <b> Solution </b> </summary>\n",
    "\n",
    "     for i in range(N):\n",
    "         P_elec.append(U[i] * I[i])\n",
    "</details>\n",
    "</div>"
   ]
  },
  {
   "cell_type": "markdown",
   "metadata": {},
   "source": [
    "<div class=\"alert alert-block alert-info\">\n",
    "    <b> Consignes </b>\n",
    "    <p>Tracer le graphique représentant la puissance électrique </p>"
   ]
  },
  {
   "cell_type": "code",
   "execution_count": null,
   "metadata": {},
   "outputs": [],
   "source": [
    "import matplotlib.pyplot as plt\n",
    "plt.plot(..., ..., 'o:')\n",
    "plt.xlabel(...)\n",
    "plt.label(...)\n",
    "plt.grid()\n",
    "plt.show()\n",
    "print(\"puissance électrique maximale : \", max(P_elec), \"W\")"
   ]
  },
  {
   "cell_type": "markdown",
   "metadata": {
    "tags": []
   },
   "source": [
    "<div class=\"alert alert-block alert-success\">\n",
    "    <details>\n",
    "        <summary> <b> Aides </b> </summary>\n",
    "\n",
    "Voir  <a href=\"https://colibris.link/PC\">notice pdf</a> et / ou  <a href=\"https://tube-creteil.beta.education.fr/video-channels/phys_chim_choisy_le_roi/videos\">tutos vidéos</a>.\n",
    "    </details>\n",
    "</div>"
   ]
  },
  {
   "cell_type": "markdown",
   "metadata": {},
   "source": [
    "<div class=\"alert alert-block alert-warning\">\n",
    " <details>\n",
    "        <summary> <b> Solution </b> </summary>\n",
    "\n",
    "    import matplotlib.pyplot as plt\n",
    "    plt.plot(U, P_elec, 'o:')\n",
    "    plt.xlabel(\"U / V\")\n",
    "    plt.ylabel(\"P / W\")\n",
    "    plt.grid()\n",
    "    plt.show()\n",
    "    print(\"puissance électrique maximale : \", max(P_elec), \"W\")\n",
    "</details>\n",
    "</div>"
   ]
  },
  {
   "cell_type": "markdown",
   "metadata": {
    "tags": []
   },
   "source": [
    "<div class=\"alert alert-block alert-info\">\n",
    "    <b> Consignes </b>\n",
    "    <p> Compléter le code pour déterminer la valeur de la puissance lumineuse reçue par la cellule photovoltaïque </p>\n",
    "</div>"
   ]
  },
  {
   "cell_type": "code",
   "execution_count": null,
   "metadata": {},
   "outputs": [],
   "source": [
    "P_surf = ... # Puissance surfaceique en W/m2\n",
    "P_lum = ... # Puissance recue par rayonnement en W"
   ]
  },
  {
   "cell_type": "markdown",
   "metadata": {
    "tags": []
   },
   "source": [
    "<div class=\"alert alert-block alert-success\">\n",
    "    <details>\n",
    "        <summary> <b> Aides </b> </summary>\n",
    "        <ul>\n",
    "            <li><b> Ligne 1 : </b> La relation à utiliser est dans le poly...  </li>\n",
    "            <li><b> Ligne 2 : </b> On cherche la puissance recue par une cellule de surface S connue, connaissant la puissance surfacique. </li>\n",
    "        </ul>\n",
    "    </details>\n",
    "</div>"
   ]
  },
  {
   "cell_type": "markdown",
   "metadata": {},
   "source": [
    "<div class=\"alert alert-block alert-warning\">\n",
    " <details>\n",
    "        <summary> <b> Solution </b> </summary>\n",
    "    <ul>\n",
    "        <li><b> Ligne 1 : </b> On sait que $100 lx \\rightarrow 1 W.m^{-2}$, donc:\n",
    "            $$ P_{surf} = \\frac{E}{100}$$ \n",
    "            donc : <code>P_surf = E / 100</code>\n",
    "        </li>\n",
    "        <li> <b> Ligne 2 : </b> <code>P_lum = P_surf * S</code>\n",
    "     </ul>\n",
    "</details>\n",
    "</div>"
   ]
  },
  {
   "cell_type": "markdown",
   "metadata": {
    "tags": []
   },
   "source": [
    "<div class=\"alert alert-block alert-info\">\n",
    "    <b> Consignes </b>\n",
    "    <p> Compléter le code pour calculer la valeur du rendement de cette cellule. </p>\n",
    "</div>"
   ]
  },
  {
   "cell_type": "code",
   "execution_count": null,
   "metadata": {},
   "outputs": [],
   "source": [
    "r = "
   ]
  },
  {
   "cell_type": "code",
   "execution_count": null,
   "metadata": {},
   "outputs": [],
   "source": []
  }
 ],
 "metadata": {
  "kernelspec": {
   "display_name": "Python 3",
   "language": "python",
   "name": "python3"
  },
  "language_info": {
   "codemirror_mode": {
    "name": "ipython",
    "version": 3
   },
   "file_extension": ".py",
   "mimetype": "text/x-python",
   "name": "python",
   "nbconvert_exporter": "python",
   "pygments_lexer": "ipython3",
   "version": "3.7.9"
  }
 },
 "nbformat": 4,
 "nbformat_minor": 4
}
